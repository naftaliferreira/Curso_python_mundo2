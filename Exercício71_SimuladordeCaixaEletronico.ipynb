{
 "cells": [
  {
   "cell_type": "markdown",
   "metadata": {},
   "source": [
    "Crie um programa que simule o funcionamento de um caixa eletrônico. \n",
    "\n",
    "No início, pergunte ao usuário qual será o valor a ser sacado (número inteiro) e o programa vai informar quantas cédulas de cada valor serão entregues. \n",
    "\n",
    "OBS:\n",
    "\n",
    "Considere que o caixa possui cédulas de R$50, R$20, R$10 e R$1."
   ]
  },
  {
   "cell_type": "code",
   "execution_count": 11,
   "metadata": {},
   "outputs": [
    {
     "name": "stdout",
     "output_type": "stream",
     "text": [
      " Seja bem vindo ao \u001b[31mBRADESCO\u001b[m \n",
      "\u001b[34mEste caixa está abastecido com notas de:\u001b[m\n",
      "\u001b[36m\n",
      "R$ 1\n",
      "R$ 10\n",
      "R$ 20\n",
      "R$ 50\n",
      "\u001b[m\n",
      "Favor inserir o valor para o saque: R$ \n"
     ]
    }
   ],
   "source": [
    "# Iniciando o caixa eletrônico\n",
    "print('{}'.format(' Seja bem vindo ao \\033[31mBRADESCO\\033[m '))\n",
    "# Informação sobre as cédulas\n",
    "print('''\\033[34mEste caixa está abastecido com notas de:\\033[m\n",
    "\\033[36m\n",
    "R$ 1\n",
    "R$ 10\n",
    "R$ 20\n",
    "R$ 50\n",
    "\\033[m''')\n",
    "# valor a sacar\n",
    "print('Favor inserir o valor para o saque: R$ ')\n",
    "valor = float(input('Digite o valor: R$ '))\n",
    "print(f'O valor inserido foi de R${valor:.2f}')\n",
    "# Calculo para encontrar a quantidade de cédulas\n",
    "total = valor \n",
    "ced = 50  # Começar com a cédula de maior valor e ir reduzindo, para simplificar o funcionamento do programa.\n",
    "totced = 0 # Variável para guardar o total de cédulas que será entregue ao usuário no caixa eletrônico.\n",
    "# Loop para ir tirando as notas apartir do maior valor \n",
    "while True:\n",
    "    if total >= ced:\n",
    "        total -= ced\n",
    "        totced += 1\n",
    "    else:\n",
    "        print(f'Total de {totced} cédulas de {ced}')\n",
    "        if ced == 50:\n",
    "             ced = 20\n",
    "        elif ced == 20:\n",
    "             ced = 10\n",
    "        elif ced == 10:\n",
    "             ced = 10\n",
    "        totced = 0\n",
    "        if total == 0:\n",
    "            break"
   ]
  }
 ],
 "metadata": {
  "kernelspec": {
   "display_name": "Python 3.11.0 64-bit",
   "language": "python",
   "name": "python3"
  },
  "language_info": {
   "codemirror_mode": {
    "name": "ipython",
    "version": 3
   },
   "file_extension": ".py",
   "mimetype": "text/x-python",
   "name": "python",
   "nbconvert_exporter": "python",
   "pygments_lexer": "ipython3",
   "version": "3.11.0"
  },
  "orig_nbformat": 4,
  "vscode": {
   "interpreter": {
    "hash": "95d21a403ce38efc0500bb7d5c286cc70e29f8acd2c1a3e359e903572c7f0498"
   }
  }
 },
 "nbformat": 4,
 "nbformat_minor": 2
}
