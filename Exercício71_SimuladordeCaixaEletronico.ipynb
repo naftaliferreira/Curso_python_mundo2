{
 "cells": [
  {
   "cell_type": "markdown",
   "metadata": {},
   "source": [
    "Crie um programa que simule o funcionamento de um caixa eletrônico. \n",
    "\n",
    "No início, pergunte ao usuário qual será o valor a ser sacado (número inteiro) e o programa vai informar quantas cédulas de cada valor serão entregues. \n",
    "\n",
    "OBS:\n",
    "\n",
    "Considere que o caixa possui cédulas de R$50, R$20, R$10 e R$1."
   ]
  },
  {
   "cell_type": "code",
   "execution_count": 17,
   "metadata": {},
   "outputs": [
    {
     "name": "stdout",
     "output_type": "stream",
     "text": [
      " Seja bem vindo ao \u001b[31mBRADESCO\u001b[m \n",
      "-=--=--=--=--=--=--=--=--=--=--=--=--=--=--=-\n",
      "\u001b[34mEste caixa está abastecido com notas de:\u001b[m\n",
      "\u001b[36m\n",
      "R$ 1\n",
      "R$ 10\n",
      "R$ 20\n",
      "R$ 50\n",
      "\u001b[m\n",
      "Será entregue um total de 3 cédulas de R$50\n",
      "Será entregue um total de 2 cédulas de R$20\n",
      "Será entregue um total de 5 cédulas de R$1\n",
      "-=--=--=--=--=--=--=--=--=--=--=--=--=--=--=-\n",
      "Serviço encerrado!\n",
      "-=--=--=--=--=--=--=--=--=--=--=--=--=--=--=-\n",
      "Volte sempre!\n",
      "-=--=--=--=--=--=--=--=--=--=--=--=--=--=--=-\n"
     ]
    }
   ],
   "source": [
    "# Iniciando o caixa eletrônico\n",
    "print('{}'.format(' Seja bem vindo ao \\033[31mBRADESCO\\033[m '))\n",
    "print('-=-' * 15)\n",
    "# Informação sobre as cédulas\n",
    "print('''\\033[34mEste caixa está abastecido com notas de:\\033[m\n",
    "\\033[36m\n",
    "R$ 1\n",
    "R$ 10\n",
    "R$ 20\n",
    "R$ 50\n",
    "\\033[m''')\n",
    "# valor a sacar\n",
    "valor = int(input('Digite o valor a ser sacado: '))\n",
    "total = valor \n",
    "ced = 50\n",
    "totced = 0\n",
    "while True:\n",
    "     if total >= ced:\n",
    "          total -= ced\n",
    "          totced += 1\n",
    "     else:\n",
    "          if totced > 0:\n",
    "               print(f'Será entregue um total de {totced} cédulas de R${ced}')\n",
    "               \n",
    "          if ced == 50:\n",
    "               ced = 20\n",
    "          elif ced == 20:\n",
    "               ced = 10\n",
    "          elif ced == 10:\n",
    "               ced = 1\n",
    "          totced = 0\n",
    "          if total == 0:\n",
    "               break\n",
    "\n",
    "print('-=-' * 15)\n",
    "print('Serviço encerrado!')\n",
    "print('-=-' * 15)\n",
    "print('Volte sempre!')\n",
    "print('-=-' * 15)\n",
    "\n",
    "\n"
   ]
  }
 ],
 "metadata": {
  "kernelspec": {
   "display_name": "Python 3.11.0 64-bit",
   "language": "python",
   "name": "python3"
  },
  "language_info": {
   "codemirror_mode": {
    "name": "ipython",
    "version": 3
   },
   "file_extension": ".py",
   "mimetype": "text/x-python",
   "name": "python",
   "nbconvert_exporter": "python",
   "pygments_lexer": "ipython3",
   "version": "3.11.0"
  },
  "orig_nbformat": 4,
  "vscode": {
   "interpreter": {
    "hash": "95d21a403ce38efc0500bb7d5c286cc70e29f8acd2c1a3e359e903572c7f0498"
   }
  }
 },
 "nbformat": 4,
 "nbformat_minor": 2
}
