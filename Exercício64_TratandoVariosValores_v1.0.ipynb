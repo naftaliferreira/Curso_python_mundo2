{
 "cells": [
  {
   "cell_type": "markdown",
   "metadata": {},
   "source": [
    "Crie um programa que leia vários números inteiros pelo teclado. O programa só vai parar quando o usuário digitar o valor 999, que é a condição de parada. No final, mostre quantos números foram digitados e qual foi a soma entre eles (desconsiderando o flag)."
   ]
  },
  {
   "cell_type": "code",
   "execution_count": 6,
   "metadata": {},
   "outputs": [
    {
     "name": "stdout",
     "output_type": "stream",
     "text": [
      "Você digitou 3 números até solicitar a parada! A soma destes números é 6\n"
     ]
    }
   ],
   "source": [
    "n = cont = soma = 0   # Como as três variáveis tem o mesmo valor inicial, é correto dizer que as três são iguais a 0. \n",
    "\n",
    "while n != 999:\n",
    "    n = int(input('Digite um número [999 para parar]: '))\n",
    "    soma += n\n",
    "    cont += 1\n",
    "print('Você digitou {} números até solicitar a parada! A soma destes números é {}'.format(cont - 1, soma - 999))\n",
    "\n",
    "# Esta é a primeira forma de resolver o problema, eliminando a flag da contagem e da soma usando o print. \n",
    "\n",
    "# Esta forma funciona porém não é recomendável, pois é feito com gambiarra. \n",
    "\n"
   ]
  },
  {
   "cell_type": "code",
   "execution_count": 7,
   "metadata": {},
   "outputs": [
    {
     "name": "stdout",
     "output_type": "stream",
     "text": [
      "Você digitou 3 números e a soma entre eles é 6.\n"
     ]
    }
   ],
   "source": [
    "n = cont = soma = 0\n",
    "\n",
    "n = int(input('Digite um número [999 irá parar o programa]'))\n",
    "while n != 999:\n",
    "    soma += n\n",
    "    cont += 1\n",
    "    n = int(input('Digite um número [999 irá parar o programa]'))\n",
    "\n",
    "print('Você digitou {} números e a soma entre eles é {}.'.format(cont, soma))\n"
   ]
  }
 ],
 "metadata": {
  "kernelspec": {
   "display_name": "Python 3.11.0 64-bit",
   "language": "python",
   "name": "python3"
  },
  "language_info": {
   "codemirror_mode": {
    "name": "ipython",
    "version": 3
   },
   "file_extension": ".py",
   "mimetype": "text/x-python",
   "name": "python",
   "nbconvert_exporter": "python",
   "pygments_lexer": "ipython3",
   "version": "3.11.0"
  },
  "orig_nbformat": 4,
  "vscode": {
   "interpreter": {
    "hash": "95d21a403ce38efc0500bb7d5c286cc70e29f8acd2c1a3e359e903572c7f0498"
   }
  }
 },
 "nbformat": 4,
 "nbformat_minor": 2
}
