{
 "cells": [
  {
   "cell_type": "markdown",
   "metadata": {},
   "source": [
    "Faça um programa que leia um número qualquer e mostre o seu fatorial \n",
    "se possível colocar duas opções para o usuário escolher 1 ou 2 e fazer com for e while."
   ]
  },
  {
   "cell_type": "markdown",
   "metadata": {},
   "source": [
    "1ª Versão: while\n"
   ]
  },
  {
   "cell_type": "code",
   "execution_count": null,
   "metadata": {},
   "outputs": [],
   "source": [
    "n = int(input('Digite o número para saber o seu fatorial: '))\n",
    "c = n   # C são os valores que antecedem n até 1, 0 não pode, pois qualquer número multiplicado por 0 é zero. \n",
    "f = 1\n",
    "print('Calculando {}!'.format(n)) # n! significa número fatorial, fatorial é representado na matemática por !. \n",
    "while c > 0:\n",
    "    print('{} '.format(c), end='')\n",
    "    print(' X ' if c > 1 else ' = ', end='') # Condicional onde se o número não for 1, colocar simbolo de multiplicação e 1 mostrar simbolo de igual. \n",
    "    f *= c  # Para funcionar, o calculo de fatorial deve ser realizado antes do calculo abaixo, ou o resultado será zero. \n",
    "    c -= 1 # Variável para mostrar todos os números que antecede o n. \n",
    "    \n",
    "print('{}'.format(f)) \n"
   ]
  },
  {
   "cell_type": "markdown",
   "metadata": {},
   "source": [
    "2ª Versão: for\n",
    "\n"
   ]
  },
  {
   "cell_type": "code",
   "execution_count": null,
   "metadata": {},
   "outputs": [],
   "source": [
    "n = int(input('Digite o número para saber o seu fatorial: '))\n",
    "c = n   # C são os valores que antecedem n até 1, 0 não pode, pois qualquer número multiplicado por 0 é zero. \n",
    "f = 1\n",
    "print('Calculando {}!'.format(n)) # n! significa número fatorial, fatorial é representado na matemática por !.\n",
    "for c in range(n, 1 - 1, -1):\n",
    "    print((c), end=' ')\n",
    "    print(' X ' if c > 1  else ' = ', end='')\n",
    "    f *= c\n",
    "    c -= 1\n",
    "\n",
    "print('{}'.format(f))\n",
    "    \n",
    "\n"
   ]
  }
 ],
 "metadata": {
  "kernelspec": {
   "display_name": "Python 3.11.0 64-bit",
   "language": "python",
   "name": "python3"
  },
  "language_info": {
   "codemirror_mode": {
    "name": "ipython",
    "version": 3
   },
   "file_extension": ".py",
   "mimetype": "text/x-python",
   "name": "python",
   "nbconvert_exporter": "python",
   "pygments_lexer": "ipython3",
   "version": "3.11.0"
  },
  "orig_nbformat": 4,
  "vscode": {
   "interpreter": {
    "hash": "95d21a403ce38efc0500bb7d5c286cc70e29f8acd2c1a3e359e903572c7f0498"
   }
  }
 },
 "nbformat": 4,
 "nbformat_minor": 2
}
