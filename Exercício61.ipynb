{
 "cells": [
  {
   "cell_type": "markdown",
   "metadata": {},
   "source": [
    "Refaça o DESAFIO 51, lendo o primeiro termo e a razão de uma PA, \n",
    "mostrando os 10 primeiros termos da progressão usando a estrutura while."
   ]
  },
  {
   "cell_type": "code",
   "execution_count": null,
   "metadata": {},
   "outputs": [],
   "source": [
    "print('GERADOR DE PA')\n",
    "print('-=-' * 10)\n",
    "\n",
    "p_termo = int(input('Primeiro termo: '))\n",
    "\n",
    "print('Primeiro termo: {}'.format(p_termo))\n",
    "razao = int(input('Razão: '))\n",
    "print('Razão: {}'.format(razao))\n",
    "\n",
    "termo = p_termo\n",
    "cont = 1\n",
    "\n",
    "while cont <= 10:\n",
    "    print('{} -> '.format(termo), end='')\n",
    "    termo += razao\n",
    "    cont += 1\n",
    "\n",
    "print('Fim do progrma!')\n",
    "    \n",
    "\n"
   ]
  }
 ],
 "metadata": {
  "kernelspec": {
   "display_name": "Python 3.11.0 64-bit",
   "language": "python",
   "name": "python3"
  },
  "language_info": {
   "codemirror_mode": {
    "name": "ipython",
    "version": 3
   },
   "file_extension": ".py",
   "mimetype": "text/x-python",
   "name": "python",
   "nbconvert_exporter": "python",
   "pygments_lexer": "ipython3",
   "version": "3.11.0"
  },
  "orig_nbformat": 4,
  "vscode": {
   "interpreter": {
    "hash": "95d21a403ce38efc0500bb7d5c286cc70e29f8acd2c1a3e359e903572c7f0498"
   }
  }
 },
 "nbformat": 4,
 "nbformat_minor": 2
}
