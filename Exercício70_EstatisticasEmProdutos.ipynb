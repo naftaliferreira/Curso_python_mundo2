{
 "cells": [
  {
   "cell_type": "markdown",
   "metadata": {},
   "source": [
    "Crie um programa que leia o nome e o preço de vários produtos. \n",
    "\n",
    "O programa deverá perguntar se o usuário vai continuar ou não. No final, mostre:\n",
    "\n",
    "A) qual é o total gasto na compra.\n",
    "\n",
    "B) quantos produtos custam mais de R$1000.\n",
    "\n",
    "C) qual é o nome do produto mais barato."
   ]
  },
  {
   "cell_type": "code",
   "execution_count": null,
   "metadata": {},
   "outputs": [],
   "source": [
    "# Variaveis\n",
    "\n",
    "totcompra = caro = menor = cont = 0\n",
    "barato = ' '\n",
    "# Início do programa\n",
    "print('{:-^20}'.format('\\033[34mLojão do Maracanã\\033[m'))\n",
    "\n",
    "# Loop perguntas \n",
    "while True:\n",
    "    produto = str(input('Qual o produto: '))\n",
    "    preco = float(input('Qual o preço do produto: R$ '))\n",
    "    cont += 1\n",
    "\n",
    "    opção = str(input('Quer continuar? [S/N] ')).strip().upper()[0]\n",
    "\n",
    "# Qual o total gasto da compra \n",
    "    totcompra += preco\n",
    "        \n",
    "# Quantos produtos custam mais de R$1000\n",
    "    if preco > 1000:\n",
    "        caro += 1\n",
    "\n",
    "# Qual o produto mais barato\n",
    "    if cont == 1 or preco < menor:\n",
    "        menor = preco\n",
    "        barato = produto\n",
    "\n",
    "# Parada do programa\n",
    "    if opção == 'N':\n",
    "        break\n",
    "\n",
    "# Exibição de resultados\n",
    "\n",
    "print(f'\\033[32mO valor total da compra é de R$ {totcompra:.2f}\\033[m')\n",
    "print(f'O total de itens com valor superior a R$1000.00 é \\033[32m{caro}\\033[m')\n",
    "print(f'O produto mais barato é o {barato} e custa R$ {menor:.2f}')\n",
    "\n",
    "print('{:-^40}'.format('Fim do programa!'))"
   ]
  }
 ],
 "metadata": {
  "kernelspec": {
   "display_name": "Python 3.11.0 64-bit",
   "language": "python",
   "name": "python3"
  },
  "language_info": {
   "codemirror_mode": {
    "name": "ipython",
    "version": 3
   },
   "file_extension": ".py",
   "mimetype": "text/x-python",
   "name": "python",
   "nbconvert_exporter": "python",
   "pygments_lexer": "ipython3",
   "version": "3.11.0"
  },
  "orig_nbformat": 4,
  "vscode": {
   "interpreter": {
    "hash": "95d21a403ce38efc0500bb7d5c286cc70e29f8acd2c1a3e359e903572c7f0498"
   }
  }
 },
 "nbformat": 4,
 "nbformat_minor": 2
}
