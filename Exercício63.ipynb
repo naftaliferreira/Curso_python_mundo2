{
 "cells": [
  {
   "cell_type": "markdown",
   "metadata": {},
   "source": [
    "Write a program wich read a N number intereger and show in the window the first N elements in a Fibonacci Sequence.\n",
    "\n",
    "Exemple:\n",
    "\n",
    "0 - 1 - 1 - 2 - 3 - 5 - 8"
   ]
  },
  {
   "cell_type": "code",
   "execution_count": null,
   "metadata": {},
   "outputs": [],
   "source": [
    "print('.' * 30)\n",
    "print('FIBONACCI SEQUENCE')\n",
    "print('.' * 30)\n",
    "n = int(input('How much terms do you want? '))\n",
    "print(\"Showing {} terms Fibonacci's sequence\".format(n))\n",
    "print('_' * 30)\n",
    "t1 = 0\n",
    "t2 = 1\n",
    "\n",
    "print('{} -> {}'.format(t1, t2), end='')\n",
    "cont = 3 # \n",
    "while cont <= n:\n",
    "    t3 = t1 + t2\n",
    "    print(' -> {}'.format(t3).format(t3), end='')\n",
    "    # Doing the variables walking\n",
    "    t1 = t2\n",
    "    t2 = t3\n",
    "    # Add the numbers\n",
    "    cont += 1\n",
    "print('\\nEnd')\n",
    "\n",
    "\n"
   ]
  }
 ],
 "metadata": {
  "kernelspec": {
   "display_name": "Python 3.11.0 64-bit",
   "language": "python",
   "name": "python3"
  },
  "language_info": {
   "codemirror_mode": {
    "name": "ipython",
    "version": 3
   },
   "file_extension": ".py",
   "mimetype": "text/x-python",
   "name": "python",
   "nbconvert_exporter": "python",
   "pygments_lexer": "ipython3",
   "version": "3.11.0"
  },
  "orig_nbformat": 4,
  "vscode": {
   "interpreter": {
    "hash": "95d21a403ce38efc0500bb7d5c286cc70e29f8acd2c1a3e359e903572c7f0498"
   }
  }
 },
 "nbformat": 4,
 "nbformat_minor": 2
}
