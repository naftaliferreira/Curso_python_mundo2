{
 "cells": [
  {
   "cell_type": "markdown",
   "metadata": {},
   "source": [
    "Faça um programa que jogue par ou ímpar com o computador. O jogo só será interrompido quando o jogador perder, mostrando o total de vitórias consecutivas que ele conquistou no final do jogo. "
   ]
  },
  {
   "cell_type": "code",
   "execution_count": null,
   "metadata": {},
   "outputs": [],
   "source": [
    "from random import randint\n",
    "\n",
    "v = 0   # Variável para contar as vitórias\n",
    "\n",
    "while True:\n",
    "    jogador = int(input(\"Digite um valor: \"))\n",
    "    computador = randint(0, 11)\n",
    "    total = jogador + computador\n",
    "    tipo = ' '\n",
    "    while tipo not in 'PI': \n",
    "        # Pegar a primeira letra se é P ou I\n",
    "        tipo = str(input('Você quer Par ou Impar? [P/I] ')).strip().upper()[0] \n",
    "        print(f'Você jogou {jogador} e o computador jogou {computador}. O total é {total}')\n",
    "        print('Deu PAR' if total % 2 == 0 else 'Deu impar')\n",
    "# Caso escolha Par\n",
    "    if tipo == 'P':\n",
    "        if total % 2 == 0:\n",
    "            print('Você venceu!')\n",
    "            v += 1\n",
    "        else: \n",
    "            print('Você perdeu!')\n",
    "            break\n",
    "# Caso escolha Impar\n",
    "    elif tipo == 'I':\n",
    "        if total % 2 == 1:\n",
    "            print('Você venceu!')\n",
    "            v += 1\n",
    "        else:\n",
    "            print('Você perdeu!')\n",
    "            break\n",
    "    print('Vamos jogar novamente!... ')\n",
    "print(f'Game over! Você venceu {v} vezes!')\n"
   ]
  }
 ],
 "metadata": {
  "kernelspec": {
   "display_name": "Python 3.11.0 64-bit",
   "language": "python",
   "name": "python3"
  },
  "language_info": {
   "codemirror_mode": {
    "name": "ipython",
    "version": 3
   },
   "file_extension": ".py",
   "mimetype": "text/x-python",
   "name": "python",
   "nbconvert_exporter": "python",
   "pygments_lexer": "ipython3",
   "version": "3.11.0"
  },
  "orig_nbformat": 4,
  "vscode": {
   "interpreter": {
    "hash": "95d21a403ce38efc0500bb7d5c286cc70e29f8acd2c1a3e359e903572c7f0498"
   }
  }
 },
 "nbformat": 4,
 "nbformat_minor": 2
}
