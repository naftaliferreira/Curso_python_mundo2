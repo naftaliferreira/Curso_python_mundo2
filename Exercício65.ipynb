{
 "cells": [
  {
   "cell_type": "markdown",
   "metadata": {},
   "source": [
    "Crie um programa que leia vários números inteiros pelo teclado. No final da execução, mostre a média entre todos os valores e qual foi o maior e o menor valores lidos. O programa deve perguntar ao usuário se ele quer ou não continuar a digitar valores."
   ]
  },
  {
   "cell_type": "code",
   "execution_count": 15,
   "metadata": {},
   "outputs": [
    {
     "name": "stdout",
     "output_type": "stream",
     "text": [
      "A média entre todos os valores digitados é 7.0\n"
     ]
    }
   ],
   "source": [
    "soma = 0\n",
    "cont = 0\n",
    "n = int(input('Digite um número: '))\n",
    "while n != 0:\n",
    "    soma += n\n",
    "    cont += 1\n",
    "    n = int(input('Digite um número: '))\n",
    "\n",
    "maior = menor = n\n",
    "media = (soma / cont)\n",
    "\n",
    "print('A média entre todos os valores digitados é {}'.format(media))\n",
    "\n"
   ]
  }
 ],
 "metadata": {
  "kernelspec": {
   "display_name": "Python 2022.10.x 64-bit",
   "language": "python",
   "name": "python3"
  },
  "language_info": {
   "codemirror_mode": {
    "name": "ipython",
    "version": 3
   },
   "file_extension": ".py",
   "mimetype": "text/x-python",
   "name": "python",
   "nbconvert_exporter": "python",
   "pygments_lexer": "ipython3",
   "version": "3.9.13"
  },
  "orig_nbformat": 4,
  "vscode": {
   "interpreter": {
    "hash": "17acde175b248c536adc7acb66895d11e108cb80d25ddefeb1f1e2017f978ac3"
   }
  }
 },
 "nbformat": 4,
 "nbformat_minor": 2
}
