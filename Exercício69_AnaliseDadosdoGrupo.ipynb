{
 "cells": [
  {
   "cell_type": "markdown",
   "metadata": {},
   "source": [
    "Crie um programa que leia a idade e o sexo de várias pessoas. \n",
    "\n",
    "A cada pessoa cadastrada, o programa deverá perguntar se o usuário quer ou não continuar. No final, mostre:\n",
    "\n",
    "A) quantas pessoas tem mais de 18 anos.\n",
    "\n",
    "B) quantos homens foram cadastrados.\n",
    "\n",
    "C) quantas mulheres tem menos de 20 anos."
   ]
  },
  {
   "cell_type": "code",
   "execution_count": null,
   "metadata": {},
   "outputs": [],
   "source": [
    "# Variáveis vazias\n",
    "mais18 = homens = mulheres = 0\n",
    "# Laço infinito de perguntas\n",
    "while True:\n",
    "    idade = int(input('Qual a sua idade: '))\n",
    "    sexo = ' '\n",
    "    while sexo not in 'MF':\n",
    "        sexo = str(input('Digite o seu gênero [M/F]: ')).strip().upper()[0]\n",
    "# Quantas pessoas com mais de 18 anos foram cadastradas. \n",
    "    if idade >= 18:\n",
    "        mais18 += 1\n",
    "# Quantos homens foram cadastrados    \n",
    "    if sexo == 'M':\n",
    "        homens += 1\n",
    "# Quantas mulheres tem menos de 20 anos\n",
    "    if sexo == 'F' and idade < 20:\n",
    "        mulheres += 1\n",
    "    resp = ' '\n",
    "    while resp not in 'SN':\n",
    "        resp = str(input('Quer continuar? [S/N] ')).strip().upper()\n",
    "# Interrupção do laço de repetição\n",
    "    if resp == 'N':\n",
    "        break\n",
    "print('Programa encerrado!')\n",
    "# Resultado dos cadastros\n",
    "print(f'Foram cadastrados {mais18} pessoas com mais de 18 anos.')\n",
    "print(f'Foram cadastrados {homens} homens.')\n",
    "print(f'Foram cadastrados {mulheres} mulheres com menos de 20 anos.')\n"
   ]
  }
 ],
 "metadata": {
  "kernelspec": {
   "display_name": "Python 3.11.0 64-bit",
   "language": "python",
   "name": "python3"
  },
  "language_info": {
   "codemirror_mode": {
    "name": "ipython",
    "version": 3
   },
   "file_extension": ".py",
   "mimetype": "text/x-python",
   "name": "python",
   "nbconvert_exporter": "python",
   "pygments_lexer": "ipython3",
   "version": "3.11.0"
  },
  "orig_nbformat": 4,
  "vscode": {
   "interpreter": {
    "hash": "95d21a403ce38efc0500bb7d5c286cc70e29f8acd2c1a3e359e903572c7f0498"
   }
  }
 },
 "nbformat": 4,
 "nbformat_minor": 2
}
